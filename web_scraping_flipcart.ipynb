{
 "cells": [
  {
   "cell_type": "markdown",
   "id": "74dc1cb8",
   "metadata": {},
   "source": [
    "# Importing Libraries"
   ]
  },
  {
   "cell_type": "code",
   "execution_count": 37,
   "id": "68a79590",
   "metadata": {},
   "outputs": [],
   "source": [
    "import pandas as pd\n",
    "import numpy as np\n",
    "import requests #used for making http requests\n",
    "from bs4 import BeautifulSoup  #used for scraping data"
   ]
  },
  {
   "cell_type": "markdown",
   "id": "7a12c61f",
   "metadata": {},
   "source": [
    "# Making empty list where the data will be stored"
   ]
  },
  {
   "cell_type": "code",
   "execution_count": 40,
   "id": "71e7b441",
   "metadata": {},
   "outputs": [],
   "source": [
    "prod_name=[]\n",
    "price=[]\n",
    "reviews=[]"
   ]
  },
  {
   "cell_type": "code",
   "execution_count": 71,
   "id": "b349055f",
   "metadata": {},
   "outputs": [],
   "source": [
    "for i in range(1,10):\n",
    "    url='https://www.flipkart.com/search?q=mobiles%20under%2050000&otracker=search&otracker1=search&marketplace=FLIPKART&as-show=on&as=off'+str(i)\n",
    "    r=requests.get(url)\n",
    "    soup=BeautifulSoup(r.text,'lxml')\n",
    "    box=soup.find('div',class_=\"_1YokD2 _3Mn1Gg\")\n",
    "    \n",
    "    name=box.find_all('div',class_=\"_4rR01T\")\n",
    "    for i in name:\n",
    "        name=i.text\n",
    "        prod_name.append(name)\n",
    "        \n",
    "    pric=box.find_all('div',class_=\"_30jeq3 _1_WHN1\")\n",
    "    for i in pric:\n",
    "        name=i.text\n",
    "        price.append(name)\n",
    "        \n",
    "        \n",
    "    rew=box.find_all('div',class_=\"_3LWZlK\")\n",
    "    for i in rew:\n",
    "        name=i.text\n",
    "        reviews.append(name)\n",
    "   \n",
    "\n",
    "        \n",
    "    \n",
    "    \n",
    "\n",
    "    "
   ]
  },
  {
   "cell_type": "markdown",
   "id": "7d7e4bb6",
   "metadata": {},
   "source": [
    "# Data framing"
   ]
  },
  {
   "cell_type": "code",
   "execution_count": 72,
   "id": "429f93ba",
   "metadata": {},
   "outputs": [
    {
     "data": {
      "text/html": [
       "<div>\n",
       "<style scoped>\n",
       "    .dataframe tbody tr th:only-of-type {\n",
       "        vertical-align: middle;\n",
       "    }\n",
       "\n",
       "    .dataframe tbody tr th {\n",
       "        vertical-align: top;\n",
       "    }\n",
       "\n",
       "    .dataframe thead th {\n",
       "        text-align: right;\n",
       "    }\n",
       "</style>\n",
       "<table border=\"1\" class=\"dataframe\">\n",
       "  <thead>\n",
       "    <tr style=\"text-align: right;\">\n",
       "      <th></th>\n",
       "      <th>Prod_name</th>\n",
       "      <th>Price</th>\n",
       "      <th>reviews</th>\n",
       "    </tr>\n",
       "  </thead>\n",
       "  <tbody>\n",
       "    <tr>\n",
       "      <th>0</th>\n",
       "      <td>SAMSUNG Galaxy Z Flip3 5G (Cream, 128 GB)</td>\n",
       "      <td>₹45,999</td>\n",
       "      <td>4.3</td>\n",
       "    </tr>\n",
       "    <tr>\n",
       "      <th>1</th>\n",
       "      <td>SAMSUNG Galaxy Z Flip3 5G (Phantom Black, 128 GB)</td>\n",
       "      <td>₹45,999</td>\n",
       "      <td>4.3</td>\n",
       "    </tr>\n",
       "    <tr>\n",
       "      <th>2</th>\n",
       "      <td>Google Pixel 7 (Lemongrass, 128 GB)</td>\n",
       "      <td>₹46,999</td>\n",
       "      <td>4.3</td>\n",
       "    </tr>\n",
       "    <tr>\n",
       "      <th>3</th>\n",
       "      <td>Google Pixel 7 (Obsidian, 128 GB)</td>\n",
       "      <td>₹46,999</td>\n",
       "      <td>4.3</td>\n",
       "    </tr>\n",
       "    <tr>\n",
       "      <th>4</th>\n",
       "      <td>Google Pixel 7 (Snow, 128 GB)</td>\n",
       "      <td>₹46,999</td>\n",
       "      <td>4.3</td>\n",
       "    </tr>\n",
       "    <tr>\n",
       "      <th>...</th>\n",
       "      <td>...</td>\n",
       "      <td>...</td>\n",
       "      <td>...</td>\n",
       "    </tr>\n",
       "    <tr>\n",
       "      <th>8251</th>\n",
       "      <td>OPPO Reno7 Pro 5G (Startrails Blue, 256 GB)</td>\n",
       "      <td>₹47,990</td>\n",
       "      <td>4.3</td>\n",
       "    </tr>\n",
       "    <tr>\n",
       "      <th>8252</th>\n",
       "      <td>OPPO Reno7 Pro 5G (Starlight Black, 256 GB)</td>\n",
       "      <td>₹47,990</td>\n",
       "      <td>4.3</td>\n",
       "    </tr>\n",
       "    <tr>\n",
       "      <th>8253</th>\n",
       "      <td>OnePlus 9 5G (Astral Black, 256 GB)</td>\n",
       "      <td>₹45,999</td>\n",
       "      <td>4</td>\n",
       "    </tr>\n",
       "    <tr>\n",
       "      <th>8254</th>\n",
       "      <td>Tecno Phantom X2 Pro Retractable 50MP Portrait...</td>\n",
       "      <td>₹42,999</td>\n",
       "      <td>4.2</td>\n",
       "    </tr>\n",
       "    <tr>\n",
       "      <th>8255</th>\n",
       "      <td>realme GT 2 Pro (Paper White, 256 GB)</td>\n",
       "      <td>₹48,990</td>\n",
       "      <td>4.3</td>\n",
       "    </tr>\n",
       "  </tbody>\n",
       "</table>\n",
       "<p>8256 rows × 3 columns</p>\n",
       "</div>"
      ],
      "text/plain": [
       "                                              Prod_name    Price reviews\n",
       "0             SAMSUNG Galaxy Z Flip3 5G (Cream, 128 GB)  ₹45,999     4.3\n",
       "1     SAMSUNG Galaxy Z Flip3 5G (Phantom Black, 128 GB)  ₹45,999     4.3\n",
       "2                   Google Pixel 7 (Lemongrass, 128 GB)  ₹46,999     4.3\n",
       "3                     Google Pixel 7 (Obsidian, 128 GB)  ₹46,999     4.3\n",
       "4                         Google Pixel 7 (Snow, 128 GB)  ₹46,999     4.3\n",
       "...                                                 ...      ...     ...\n",
       "8251        OPPO Reno7 Pro 5G (Startrails Blue, 256 GB)  ₹47,990     4.3\n",
       "8252        OPPO Reno7 Pro 5G (Starlight Black, 256 GB)  ₹47,990     4.3\n",
       "8253                OnePlus 9 5G (Astral Black, 256 GB)  ₹45,999       4\n",
       "8254  Tecno Phantom X2 Pro Retractable 50MP Portrait...  ₹42,999     4.2\n",
       "8255              realme GT 2 Pro (Paper White, 256 GB)  ₹48,990     4.3\n",
       "\n",
       "[8256 rows x 3 columns]"
      ]
     },
     "execution_count": 72,
     "metadata": {},
     "output_type": "execute_result"
    }
   ],
   "source": [
    "df=pd.DataFrame({'Prod_name':prod_name,'Price':price,'reviews':reviews})\n",
    "df"
   ]
  },
  {
   "cell_type": "code",
   "execution_count": 73,
   "id": "f97528df",
   "metadata": {},
   "outputs": [
    {
     "data": {
      "text/html": [
       "<div>\n",
       "<style scoped>\n",
       "    .dataframe tbody tr th:only-of-type {\n",
       "        vertical-align: middle;\n",
       "    }\n",
       "\n",
       "    .dataframe tbody tr th {\n",
       "        vertical-align: top;\n",
       "    }\n",
       "\n",
       "    .dataframe thead th {\n",
       "        text-align: right;\n",
       "    }\n",
       "</style>\n",
       "<table border=\"1\" class=\"dataframe\">\n",
       "  <thead>\n",
       "    <tr style=\"text-align: right;\">\n",
       "      <th></th>\n",
       "      <th>Prod_name</th>\n",
       "      <th>Price</th>\n",
       "      <th>reviews</th>\n",
       "    </tr>\n",
       "  </thead>\n",
       "  <tbody>\n",
       "    <tr>\n",
       "      <th>5031</th>\n",
       "      <td>vivo V29 Pro 5G (Blue, 256 GB)</td>\n",
       "      <td>₹46,049</td>\n",
       "      <td>4.5</td>\n",
       "    </tr>\n",
       "    <tr>\n",
       "      <th>3207</th>\n",
       "      <td>Apple iPhone 6 Plus (Silver, 64 GB)</td>\n",
       "      <td>₹48,999</td>\n",
       "      <td>4.5</td>\n",
       "    </tr>\n",
       "    <tr>\n",
       "      <th>2760</th>\n",
       "      <td>SAMSUNG Galaxy Z Flip3 5G (Cream, 128 GB)</td>\n",
       "      <td>₹45,999</td>\n",
       "      <td>4.3</td>\n",
       "    </tr>\n",
       "    <tr>\n",
       "      <th>6119</th>\n",
       "      <td>Tecno Phantom X2 Pro Retractable 50MP Portrait...</td>\n",
       "      <td>₹42,999</td>\n",
       "      <td>4.2</td>\n",
       "    </tr>\n",
       "    <tr>\n",
       "      <th>6425</th>\n",
       "      <td>IQOO 9T 5G (LEGEND, 128 GB)</td>\n",
       "      <td>₹49,499</td>\n",
       "      <td>4.1</td>\n",
       "    </tr>\n",
       "    <tr>\n",
       "      <th>1250</th>\n",
       "      <td>Google Pixel 7 (Lemongrass, 128 GB)</td>\n",
       "      <td>₹46,999</td>\n",
       "      <td>4.3</td>\n",
       "    </tr>\n",
       "    <tr>\n",
       "      <th>1333</th>\n",
       "      <td>vivo X90 (Breeze Blue, 256 GB)</td>\n",
       "      <td>₹47,490</td>\n",
       "      <td>4.4</td>\n",
       "    </tr>\n",
       "    <tr>\n",
       "      <th>5520</th>\n",
       "      <td>vivo V29 Pro 5G (Black, 256 GB)</td>\n",
       "      <td>₹42,999</td>\n",
       "      <td>4.5</td>\n",
       "    </tr>\n",
       "    <tr>\n",
       "      <th>5838</th>\n",
       "      <td>OnePlus 10 Pro 5G (Emerald Forest, 128 GB)</td>\n",
       "      <td>₹44,599</td>\n",
       "      <td>4.2</td>\n",
       "    </tr>\n",
       "    <tr>\n",
       "      <th>2675</th>\n",
       "      <td>OnePlus 10 Pro 5G (Emerald Forest, 128 GB)</td>\n",
       "      <td>₹45,990</td>\n",
       "      <td>4.2</td>\n",
       "    </tr>\n",
       "  </tbody>\n",
       "</table>\n",
       "</div>"
      ],
      "text/plain": [
       "                                              Prod_name    Price reviews\n",
       "5031                     vivo V29 Pro 5G (Blue, 256 GB)  ₹46,049     4.5\n",
       "3207                Apple iPhone 6 Plus (Silver, 64 GB)  ₹48,999     4.5\n",
       "2760          SAMSUNG Galaxy Z Flip3 5G (Cream, 128 GB)  ₹45,999     4.3\n",
       "6119  Tecno Phantom X2 Pro Retractable 50MP Portrait...  ₹42,999     4.2\n",
       "6425                        IQOO 9T 5G (LEGEND, 128 GB)  ₹49,499     4.1\n",
       "1250                Google Pixel 7 (Lemongrass, 128 GB)  ₹46,999     4.3\n",
       "1333                     vivo X90 (Breeze Blue, 256 GB)  ₹47,490     4.4\n",
       "5520                    vivo V29 Pro 5G (Black, 256 GB)  ₹42,999     4.5\n",
       "5838         OnePlus 10 Pro 5G (Emerald Forest, 128 GB)  ₹44,599     4.2\n",
       "2675         OnePlus 10 Pro 5G (Emerald Forest, 128 GB)  ₹45,990     4.2"
      ]
     },
     "execution_count": 73,
     "metadata": {},
     "output_type": "execute_result"
    }
   ],
   "source": [
    "df.sample(10)"
   ]
  },
  {
   "cell_type": "code",
   "execution_count": 74,
   "id": "5f796758",
   "metadata": {},
   "outputs": [
    {
     "data": {
      "text/plain": [
       "(8256, 3)"
      ]
     },
     "execution_count": 74,
     "metadata": {},
     "output_type": "execute_result"
    }
   ],
   "source": [
    "df.shape"
   ]
  },
  {
   "cell_type": "code",
   "execution_count": 75,
   "id": "c8f6024c",
   "metadata": {},
   "outputs": [
    {
     "data": {
      "text/plain": [
       "Prod_name    0\n",
       "Price        0\n",
       "reviews      0\n",
       "dtype: int64"
      ]
     },
     "execution_count": 75,
     "metadata": {},
     "output_type": "execute_result"
    }
   ],
   "source": [
    "df.isnull().sum()"
   ]
  },
  {
   "cell_type": "code",
   "execution_count": 76,
   "id": "6c0368a9",
   "metadata": {},
   "outputs": [
    {
     "name": "stdout",
     "output_type": "stream",
     "text": [
      "<class 'pandas.core.frame.DataFrame'>\n",
      "RangeIndex: 8256 entries, 0 to 8255\n",
      "Data columns (total 3 columns):\n",
      " #   Column     Non-Null Count  Dtype \n",
      "---  ------     --------------  ----- \n",
      " 0   Prod_name  8256 non-null   object\n",
      " 1   Price      8256 non-null   object\n",
      " 2   reviews    8256 non-null   object\n",
      "dtypes: object(3)\n",
      "memory usage: 193.6+ KB\n"
     ]
    }
   ],
   "source": [
    "df.info()"
   ]
  },
  {
   "cell_type": "code",
   "execution_count": 77,
   "id": "f3ade50c",
   "metadata": {},
   "outputs": [
    {
     "data": {
      "text/html": [
       "<div>\n",
       "<style scoped>\n",
       "    .dataframe tbody tr th:only-of-type {\n",
       "        vertical-align: middle;\n",
       "    }\n",
       "\n",
       "    .dataframe tbody tr th {\n",
       "        vertical-align: top;\n",
       "    }\n",
       "\n",
       "    .dataframe thead th {\n",
       "        text-align: right;\n",
       "    }\n",
       "</style>\n",
       "<table border=\"1\" class=\"dataframe\">\n",
       "  <thead>\n",
       "    <tr style=\"text-align: right;\">\n",
       "      <th></th>\n",
       "      <th>Prod_name</th>\n",
       "      <th>Price</th>\n",
       "      <th>reviews</th>\n",
       "    </tr>\n",
       "  </thead>\n",
       "  <tbody>\n",
       "    <tr>\n",
       "      <th>count</th>\n",
       "      <td>8256</td>\n",
       "      <td>8256</td>\n",
       "      <td>8256</td>\n",
       "    </tr>\n",
       "    <tr>\n",
       "      <th>unique</th>\n",
       "      <td>26</td>\n",
       "      <td>21</td>\n",
       "      <td>7</td>\n",
       "    </tr>\n",
       "    <tr>\n",
       "      <th>top</th>\n",
       "      <td>OnePlus 10 Pro 5G (Emerald Forest, 128 GB)</td>\n",
       "      <td>₹45,999</td>\n",
       "      <td>4.3</td>\n",
       "    </tr>\n",
       "    <tr>\n",
       "      <th>freq</th>\n",
       "      <td>688</td>\n",
       "      <td>1032</td>\n",
       "      <td>2497</td>\n",
       "    </tr>\n",
       "  </tbody>\n",
       "</table>\n",
       "</div>"
      ],
      "text/plain": [
       "                                         Prod_name    Price reviews\n",
       "count                                         8256     8256    8256\n",
       "unique                                          26       21       7\n",
       "top     OnePlus 10 Pro 5G (Emerald Forest, 128 GB)  ₹45,999     4.3\n",
       "freq                                           688     1032    2497"
      ]
     },
     "execution_count": 77,
     "metadata": {},
     "output_type": "execute_result"
    }
   ],
   "source": [
    "df.describe()"
   ]
  },
  {
   "cell_type": "markdown",
   "id": "1de4c33d",
   "metadata": {},
   "source": [
    "# Saving data in laptop"
   ]
  },
  {
   "cell_type": "code",
   "execution_count": 79,
   "id": "b5d5fc9e",
   "metadata": {},
   "outputs": [],
   "source": [
    "df.to_csv('E://working_DATA//flipcart_mobile.csv')"
   ]
  },
  {
   "cell_type": "code",
   "execution_count": null,
   "id": "fc5f484d",
   "metadata": {},
   "outputs": [],
   "source": []
  }
 ],
 "metadata": {
  "kernelspec": {
   "display_name": "Python 3 (ipykernel)",
   "language": "python",
   "name": "python3"
  },
  "language_info": {
   "codemirror_mode": {
    "name": "ipython",
    "version": 3
   },
   "file_extension": ".py",
   "mimetype": "text/x-python",
   "name": "python",
   "nbconvert_exporter": "python",
   "pygments_lexer": "ipython3",
   "version": "3.9.13"
  }
 },
 "nbformat": 4,
 "nbformat_minor": 5
}
